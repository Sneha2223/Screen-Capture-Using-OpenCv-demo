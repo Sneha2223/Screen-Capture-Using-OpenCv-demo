{
 "cells": [
  {
   "cell_type": "code",
   "execution_count": 1,
   "id": "05ba7b95-99b7-4bba-a688-267eb8a97bd4",
   "metadata": {},
   "outputs": [],
   "source": [
    "import cv2\n",
    "import numpy as np\n",
    "from mss import mss\n",
    "import time\n",
    "\n",
    "# capture a single screenshot of the entire screen\n",
    "def capture_full_screen():\n",
    "    with mss() as sct:\n",
    "        sct_img = sct.grab(sct.monitors[0])  # Capture the entire screen\n",
    "        return np.array(sct_img)\n",
    "\n",
    "# save the screenshot\n",
    "def save_screenshot(image, filename='screenshot.png'):\n",
    "    cv2.imwrite(filename, image)\n",
    "\n",
    "def main():\n",
    "    while True:  # This loop will allow for continuous screen capture\n",
    "        # Capture a single screenshot\n",
    "        screenshot = capture_full_screen()\n",
    "\n",
    "        # Save \n",
    "        save_screenshot(screenshot)\n",
    "\n",
    "        # Display \n",
    "        cv2.imshow('Live Screenshot', screenshot)\n",
    "        \n",
    "        # exit from the screen if 'q' is pressed\n",
    "        if cv2.waitKey(1) & 0xFF == ord('q'):\n",
    "            break\n",
    "        \n",
    "        time.sleep(0.1)  # A short delay to not overload the CPU\n",
    "\n",
    "    cv2.destroyAllWindows()\n",
    "\n",
    "if __name__ == '__main__':\n",
    "    main()\n"
   ]
  }
 ],
 "metadata": {
  "kernelspec": {
   "display_name": "Python 3 (ipykernel)",
   "language": "python",
   "name": "python3"
  },
  "language_info": {
   "codemirror_mode": {
    "name": "ipython",
    "version": 3
   },
   "file_extension": ".py",
   "mimetype": "text/x-python",
   "name": "python",
   "nbconvert_exporter": "python",
   "pygments_lexer": "ipython3",
   "version": "3.11.7"
  }
 },
 "nbformat": 4,
 "nbformat_minor": 5
}

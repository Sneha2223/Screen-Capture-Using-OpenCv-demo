{
 "cells": [
  {
   "cell_type": "code",
   "execution_count": 2,
   "id": "dbbfde31-75e4-436d-b28d-42f770e09342",
   "metadata": {},
   "outputs": [
    {
     "name": "stdout",
     "output_type": "stream",
     "text": [
      "Simulated left mouse click at (613, 713)\n",
      "Simulated left mouse click at (613, 713)\n",
      "Simulated left mouse click at (613, 713)\n",
      "Simulated left mouse click at (613, 713)\n",
      "Simulated left mouse click at (613, 713)\n",
      "Simulated right mouse click at (613, 713)\n",
      "Simulated right mouse click at (613, 713)\n",
      "Simulated right mouse click at (613, 713)\n"
     ]
    }
   ],
   "source": [
    "import cv2\n",
    "\n",
    "# Initialize cursor position\n",
    "cursor_x, cursor_y = 0, 0\n",
    "\n",
    "def mouse_callback(event, x, y, flags, param):\n",
    "    global cursor_x, cursor_y\n",
    "    if event == cv2.EVENT_LBUTTONDOWN and flags & cv2.EVENT_FLAG_CTRLKEY:\n",
    "        print(f\"Left mouse click at ({x}, {y}) while CTRL key is pressed\")\n",
    "    elif event == cv2.EVENT_RBUTTONDOWN and flags & cv2.EVENT_FLAG_SHIFTKEY:\n",
    "        print(f\"Right mouse click at ({x}, {y}) while SHIFT key is pressed\")\n",
    "    elif event == cv2.EVENT_MOUSEMOVE:\n",
    "        cursor_x, cursor_y = x, y\n",
    "\n",
    "# Load an image \n",
    "image = cv2.imread('screenshot.png')\n",
    "\n",
    "if image is None:\n",
    "    print(\"Error: Unable to load the image.\")\n",
    "else:\n",
    "    # Create a window and set the mouse callback function\n",
    "    cv2.namedWindow('Mouse Events')\n",
    "    cv2.setMouseCallback('Mouse Events', mouse_callback)\n",
    "\n",
    "    while True:\n",
    "        # Create a copy of the original image to draw the cursor\n",
    "        output_image = image.copy()\n",
    "        \n",
    "        # Draw a circle to represent the cursor on the output image\n",
    "        cv2.circle(output_image, (cursor_x, cursor_y), 5, (0, 255, 0), -1)\n",
    "        \n",
    "        # Show the output image with the cursor\n",
    "        cv2.imshow('Mouse Events', output_image)\n",
    "        \n",
    "        key = cv2.waitKey(1) & 0xFF\n",
    "        if key == ord('q'):\n",
    "            break\n",
    "        elif key == ord('L'):  # Simulate left mouse click\n",
    "            print(f\"Simulated left mouse click at ({cursor_x}, {cursor_y})\")\n",
    "            # Add your custom logic here for left-click action\n",
    "        elif key == ord('R'):  # Simulate right mouse click\n",
    "            print(f\"Simulated right mouse click at ({cursor_x}, {cursor_y})\")\n",
    "            # Add your custom logic here for right-click action\n",
    "        elif key == ord('W'):  # Move cursor up\n",
    "            cursor_y -= 10\n",
    "        elif key == ord('S'):  # Move cursor down\n",
    "            cursor_y += 10\n",
    "        elif key == ord('A'):  # Move cursor left\n",
    "            cursor_x -= 10\n",
    "        elif key == ord('D'):  # Move cursor right\n",
    "            cursor_x += 10\n",
    "\n",
    "    cv2.destroyAllWindows()\n"
   ]
  }
 ],
 "metadata": {
  "kernelspec": {
   "display_name": "Python 3 (ipykernel)",
   "language": "python",
   "name": "python3"
  },
  "language_info": {
   "codemirror_mode": {
    "name": "ipython",
    "version": 3
   },
   "file_extension": ".py",
   "mimetype": "text/x-python",
   "name": "python",
   "nbconvert_exporter": "python",
   "pygments_lexer": "ipython3",
   "version": "3.11.7"
  }
 },
 "nbformat": 4,
 "nbformat_minor": 5
}
